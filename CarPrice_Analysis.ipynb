{
  "cells": [
    {
      "cell_type": "markdown",
      "metadata": {
        "colab_type": "text",
        "id": "view-in-github"
      },
      "source": [
        "<a href=\"https://colab.research.google.com/github/lalith0203/CarPrice_Analysis/blob/main/CarPrice_Analysis.ipynb\" target=\"_parent\"><img src=\"https://colab.research.google.com/assets/colab-badge.svg\" alt=\"Open In Colab\"/></a>"
      ]
    },
    {
      "cell_type": "code",
      "execution_count": null,
      "metadata": {
        "id": "AA3rDV24vzEE"
      },
      "outputs": [],
      "source": [
        "import pandas as pd\n",
        "import numpy as np\n",
        "import matplotlib.pyplot as plt\n",
        "import seaborn as sns\n",
        "import os\n",
        "import warnings\n",
        "%matplotlib inline\n",
        "pd.set_option(\"display.max_rows\", None,\"display.max_columns\", None)\n",
        "warnings.simplefilter(action='ignore')\n",
        "plt.style.use('seaborn')"
      ]
    },
    {
      "cell_type": "code",
      "execution_count": null,
      "metadata": {
        "colab": {
          "base_uri": "https://localhost:8080/",
          "height": 74
        },
        "id": "yaYPQAhEv-DI",
        "outputId": "fc62043e-266a-4fb6-f137-caf9b5b30bc9"
      },
      "outputs": [],
      "source": [
        "from google.colab import files\n",
        "uploaded = files.upload()"
      ]
    },
    {
      "cell_type": "code",
      "execution_count": null,
      "metadata": {
        "colab": {
          "base_uri": "https://localhost:8080/",
          "height": 206
        },
        "id": "Rqg0rwlLyXrA",
        "outputId": "4d8706da-7712-44c7-e24a-91421aafe3b5"
      },
      "outputs": [],
      "source": [
        "df_main = pd.read_csv('CAR DETAILS FROM CAR DEKHO.csv')\n",
        "df_main.head()"
      ]
    },
    {
      "cell_type": "code",
      "execution_count": null,
      "metadata": {
        "colab": {
          "base_uri": "https://localhost:8080/"
        },
        "id": "VNbLDbb0zOg-",
        "outputId": "393ef7fc-12d3-4241-b74a-55fac165024c"
      },
      "outputs": [],
      "source": [
        "df_main.shape"
      ]
    },
    {
      "cell_type": "code",
      "execution_count": null,
      "metadata": {
        "colab": {
          "base_uri": "https://localhost:8080/"
        },
        "id": "7pr-7uMqzcmb",
        "outputId": "907c782a-b392-431e-c353-09cfb6d7043b"
      },
      "outputs": [],
      "source": [
        "df_main.info()"
      ]
    },
    {
      "cell_type": "code",
      "execution_count": null,
      "metadata": {
        "colab": {
          "base_uri": "https://localhost:8080/",
          "height": 300
        },
        "id": "4feouHnEzgpn",
        "outputId": "09765745-fff7-49d3-fc22-ba8c55492a0f"
      },
      "outputs": [],
      "source": [
        "df_main.describe()"
      ]
    },
    {
      "cell_type": "code",
      "execution_count": null,
      "metadata": {
        "colab": {
          "base_uri": "https://localhost:8080/"
        },
        "id": "YjyaKDFtzoh0",
        "outputId": "539be8f3-1998-4367-e499-ea8eb87ff166"
      },
      "outputs": [],
      "source": [
        "df_main.isna().sum()"
      ]
    },
    {
      "cell_type": "code",
      "execution_count": null,
      "metadata": {
        "id": "i5I8DN1i683j"
      },
      "outputs": [],
      "source": [
        "df_main['Age'] = 2020 - df_main['year']\n",
        "df_main.drop('year',axis=1,inplace = True)"
      ]
    },
    {
      "cell_type": "code",
      "execution_count": null,
      "metadata": {
        "id": "aPRahkiW6-3I"
      },
      "outputs": [],
      "source": [
        "df_main.rename(columns = {'selling_Price':'selling_price(lacs)','fuel':'fuel_type','owner':'Past_Owners'},inplace = True)"
      ]
    },
    {
      "cell_type": "code",
      "execution_count": null,
      "metadata": {
        "colab": {
          "base_uri": "https://localhost:8080/"
        },
        "id": "7Lo2umoB7NpN",
        "outputId": "f4420c12-0e20-465d-8258-55bf8fd3edf4"
      },
      "outputs": [],
      "source": [
        "df_main.columns"
      ]
    },
    {
      "cell_type": "code",
      "execution_count": null,
      "metadata": {
        "colab": {
          "base_uri": "https://localhost:8080/",
          "height": 759
        },
        "id": "4YICJSVO7g-_",
        "outputId": "f37983ed-2547-4ca3-c17e-4fc228357838"
      },
      "outputs": [],
      "source": [
        "cat_cols = ['fuel_type','seller_type','transmission','Past_Owners']\n",
        "i=0\n",
        "while i < 4:\n",
        " fig = plt.figure(figsize=[10,4])\n",
        " plt.subplot(1,2,1)\n",
        " sns.countplot(x=cat_cols[i], data=df_main)\n",
        " i += 1\n",
        " plt.subplot(1,2,2)\n",
        " sns.countplot(x=cat_cols[i], data=df_main)\n",
        " i += 1\n",
        " plt.show()"
      ]
    },
    {
      "cell_type": "code",
      "execution_count": null,
      "metadata": {
        "colab": {
          "base_uri": "https://localhost:8080/",
          "height": 590
        },
        "id": "y7JUEyM49_Sx",
        "outputId": "1a1dde48-ae71-41c2-fe9e-812ae78c144c"
      },
      "outputs": [],
      "source": [
        "num_cols = ['selling_price(lacs)','km_driven','fule_type','Age']\n",
        "i=0\n",
        "while i < 4:\n",
        " fig = plt.figure(figsize=[13,3])\n",
        " plt.subplot(1,2,1)\n",
        " i += 1\n",
        " plt.subplot(1,2,2)\n",
        " sns.boxplot(x=num_cols[i], data=df_main)\n",
        " i += 1\n",
        " plt.show()"
      ]
    },
    {
      "cell_type": "code",
      "execution_count": null,
      "metadata": {
        "id": "7e6dDMvd_q6b"
      },
      "outputs": [],
      "source": [
        "df_main.drop(labels='name',axis= 1, inplace = True)"
      ]
    },
    {
      "cell_type": "code",
      "execution_count": null,
      "metadata": {
        "id": "k07dUFY-_wDE"
      },
      "outputs": [],
      "source": [
        "df_main = pd.get_dummies(data = df_main,drop_first=True)"
      ]
    },
    {
      "cell_type": "code",
      "execution_count": null,
      "metadata": {
        "id": "p-jSu2iYAXMZ"
      },
      "outputs": [],
      "source": [
        "y = df_main['km_driven']\n",
        "X = df_main.drop('km_driven',axis=1)"
      ]
    },
    {
      "cell_type": "code",
      "execution_count": null,
      "metadata": {
        "id": "FmVBHdlTAPkL"
      },
      "outputs": [],
      "source": [
        "from sklearn.model_selection import train_test_split"
      ]
    },
    {
      "cell_type": "code",
      "execution_count": null,
      "metadata": {
        "colab": {
          "base_uri": "https://localhost:8080/"
        },
        "id": "jVJtHGXKATa_",
        "outputId": "26caaeb4-c3e8-4a98-d6d3-d5016a9e1a4b"
      },
      "outputs": [],
      "source": [
        "X_train, X_test, y_train, y_test = train_test_split(X, y, test_size=0.2, random_state=1)\n",
        "print(\"x train: \",X_train.shape)\n",
        "print(\"x test: \",X_test.shape)\n",
        "print(\"y train: \",y_train.shape)\n",
        "print(\"y test: \",y_test.shape)"
      ]
    },
    {
      "cell_type": "code",
      "execution_count": null,
      "metadata": {
        "id": "EbqBB_UvBm59"
      },
      "outputs": [],
      "source": [
        "from sklearn.metrics import r2_score\n",
        "from sklearn.model_selection import cross_val_score"
      ]
    },
    {
      "cell_type": "code",
      "execution_count": null,
      "metadata": {
        "id": "MZsNfLrRBuds"
      },
      "outputs": [],
      "source": [
        "CV = []\n",
        "R2_train = []\n",
        "R2_test = []\n",
        "def car_pred_model(model,model_name):\n",
        "    model.fit(X_train,y_train)\n",
        "    y_pred_train = model.predict(X_train)\n",
        "    R2_train_model = r2_score(y_train,y_pred_train)\n",
        "    R2_train.append(round(R2_train_model,2))\n",
        "    y_pred_test = model.predict(X_test)\n",
        "    R2_test_model = r2_score(y_test,y_pred_test)\n",
        "    R2_test.append(round(R2_test_model,2))\n",
        "    cross_val = cross_val_score(model ,X_train ,y_train ,cv=5)\n",
        "    cv_mean = cross_val.mean()\n",
        "    CV.append(round(cv_mean,2))\n",
        "    print(\"Train R2-score :\",round(R2_train_model,2))\n",
        "    print(\"Test R2-score :\",round(R2_test_model,2))\n",
        "    print(\"Train CV scores :\",cross_val)\n",
        "    print(\"Train CV mean :\",round(cv_mean,2))\n",
        "    fig, ax = plt.subplots(1,2,figsize = (10,4))\n",
        "    ax[0].set_title('Residual Plot of Train samples')\n",
        "    sns.distplot((y_train-y_pred_train),hist = False,ax = ax[0])\n",
        "    ax[0].set_xlabel('y_train - y_pred_train')\n",
        "    ax[1].set_title('y_test vs y_pred_test')\n",
        "    ax[1].scatter(x = y_test, y = y_pred_test)\n",
        "    ax[1].set_xlabel('y_test')\n",
        "    ax[1].set_ylabel('y_pred_test')\n",
        "    plt.show()"
      ]
    },
    {
      "cell_type": "code",
      "execution_count": null,
      "metadata": {
        "colab": {
          "base_uri": "https://localhost:8080/",
          "height": 479
        },
        "id": "KUFfZyjSDLCw",
        "outputId": "a694ab56-b684-4972-e308-a4b5cf92c70b"
      },
      "outputs": [],
      "source": [
        "from sklearn.linear_model import LinearRegression\n",
        "\n",
        "lr = LinearRegression()\n",
        "car_pred_model(lr,\"Linear_regressor.pkl\")"
      ]
    }
  ],
  "metadata": {
    "colab": {
      "authorship_tag": "ABX9TyPBthF1ZS2adpGtSBCYBYNg",
      "include_colab_link": true,
      "provenance": []
    },
    "kernelspec": {
      "display_name": "Python 3",
      "name": "python3"
    },
    "language_info": {
      "name": "python"
    }
  },
  "nbformat": 4,
  "nbformat_minor": 0
}
